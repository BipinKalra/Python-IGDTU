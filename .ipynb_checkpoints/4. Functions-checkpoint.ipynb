{
 "cells": [
  {
   "cell_type": "markdown",
   "metadata": {},
   "source": [
    "# Functions"
   ]
  },
  {
   "cell_type": "markdown",
   "metadata": {},
   "source": [
    "> Functions are reusable pieces of programs. They allow you to give a name to a block of statements, allowing you to run that block using the specified name anywhere in your program and any number of times. This is known as calling the function. We have already used many built-in functions such as len and range."
   ]
  },
  {
   "cell_type": "markdown",
   "metadata": {},
   "source": [
    "![](images/function_syntax.jpg)"
   ]
  },
  {
   "cell_type": "code",
   "execution_count": null,
   "metadata": {},
   "outputs": [],
   "source": []
  },
  {
   "cell_type": "code",
   "execution_count": null,
   "metadata": {},
   "outputs": [],
   "source": []
  },
  {
   "cell_type": "code",
   "execution_count": null,
   "metadata": {},
   "outputs": [],
   "source": []
  },
  {
   "cell_type": "code",
   "execution_count": null,
   "metadata": {},
   "outputs": [],
   "source": []
  },
  {
   "cell_type": "code",
   "execution_count": null,
   "metadata": {},
   "outputs": [],
   "source": []
  },
  {
   "cell_type": "code",
   "execution_count": null,
   "metadata": {},
   "outputs": [],
   "source": []
  },
  {
   "cell_type": "code",
   "execution_count": null,
   "metadata": {},
   "outputs": [],
   "source": []
  },
  {
   "cell_type": "code",
   "execution_count": null,
   "metadata": {},
   "outputs": [],
   "source": [
    "def doSomething():\n",
    "    print(\"Hello World !\")\n",
    "\n",
    "doSomething()"
   ]
  },
  {
   "cell_type": "code",
   "execution_count": null,
   "metadata": {},
   "outputs": [],
   "source": [
    "def add():\n",
    "    print(\"you are in the function\")\n",
    "    return 5 + 6\n",
    "\n",
    "a = add()\n",
    "print(a)"
   ]
  },
  {
   "cell_type": "markdown",
   "metadata": {},
   "source": [
    "### Functions can take parameters"
   ]
  },
  {
   "cell_type": "code",
   "execution_count": null,
   "metadata": {},
   "outputs": [],
   "source": [
    "def add(a, b, *args):\n",
    "    print(type(args))\n",
    "    return a + b + sum(args)\n",
    "\n",
    "def customAdd(a, b, c):\n",
    "    return b + c\n",
    "\n",
    "def customAdd2(l):\n",
    "    s = 0\n",
    "    for x in l:\n",
    "        s += x\n",
    "    return s\n",
    "\n",
    "import pprint\n",
    "def keywordedAdd(**kwargs):\n",
    "    for key in kwargs.keys():\n",
    "        print(kwargs[key])\n",
    "\n",
    "c = add(1, 2)\n",
    "\n",
    "print(c)\n",
    "\n",
    "c = keywordedAdd(b = 6, c = 9, a = 10)\n"
   ]
  },
  {
   "cell_type": "code",
   "execution_count": null,
   "metadata": {},
   "outputs": [],
   "source": [
    "a = dict()\n",
    "\n",
    "a['name'] = \"rohan\"\n",
    "a['lastname'] = \"garg\"\n",
    "a['age'] = 65\n",
    "a['marks'] = 90.75\n",
    "\n",
    "print(type(a))\n",
    "print(a)\n",
    "\n",
    "a['marks'] = 50.65\n",
    "print(a)\n",
    "\n",
    "a[6] = \"asdjlfkj\"\n",
    "print(a)"
   ]
  },
  {
   "cell_type": "markdown",
   "metadata": {},
   "source": [
    "### return statement"
   ]
  },
  {
   "cell_type": "code",
   "execution_count": null,
   "metadata": {},
   "outputs": [],
   "source": []
  },
  {
   "cell_type": "markdown",
   "metadata": {},
   "source": [
    "### Local and global variables"
   ]
  },
  {
   "cell_type": "code",
   "execution_count": null,
   "metadata": {},
   "outputs": [],
   "source": [
    "a = 10\n",
    "\n",
    "def func():\n",
    "    global a\n",
    "    a = 12\n",
    "    print(id(a))\n",
    "    \n",
    "func()\n",
    "print(id(a))"
   ]
  },
  {
   "cell_type": "markdown",
   "metadata": {},
   "source": [
    "### Default argument values"
   ]
  },
  {
   "cell_type": "code",
   "execution_count": null,
   "metadata": {},
   "outputs": [],
   "source": [
    "def something(a = 10, b = 12, c = 14):\n",
    "    print(a, b, c)\n",
    "\n",
    "something(b = 5, c = 6)"
   ]
  },
  {
   "cell_type": "code",
   "execution_count": null,
   "metadata": {},
   "outputs": [],
   "source": [
    "def hello():\n",
    "    print(\"Hello World!\")\n",
    "\n",
    "def add(a, b):\n",
    "    print(\"sum is: \", a+b)\n",
    "    \n",
    "def addReturn(a, b):\n",
    "    return a+b\n",
    "\n",
    "def sum(*numbers):\n",
    "    s = 0\n",
    "    for i in numbers:\n",
    "        s += i\n",
    "    return s\n",
    "\n",
    "def show(**data):\n",
    "    for i in data.keys():\n",
    "        print(i, \": \" , data[i])\n",
    "\n",
    "show(name = \"jatin\", last_name = \"katyal\")"
   ]
  },
  {
   "cell_type": "markdown",
   "metadata": {},
   "source": [
    "### Keyword arguments\n",
    "\n",
    "If you have some functions with many parameters and you want to specify only some of them, then you can give values for such parameters by naming them - this is called keyword arguments - we use the name (keyword) instead of the position (which we have been using all along) to specify the arguments to the function.\n",
    "\n",
    "There are two advantages - one, using the function is easier since we do not need to worry about the order of the arguments. Two, we can give values to only those parameters to which we want to, provided that the other parameters have default argument values.\n",
    "\n",
    "An example:\n",
    "```python\n",
    "def func(a, b=5, c=10):\n",
    "    print('a is', a, 'and b is', b, 'and c is', c)\n",
    "\n",
    "func(3, 7)\n",
    "func(25, c=24)\n",
    "func(c=50, a=100)\n",
    "```"
   ]
  },
  {
   "cell_type": "code",
   "execution_count": null,
   "metadata": {},
   "outputs": [],
   "source": [
    "def p(n):\n",
    "    if n <= 0:\n",
    "        return\n",
    "    print(n)\n",
    "    p(n-1)\n",
    "\n",
    "p(5)"
   ]
  },
  {
   "cell_type": "code",
   "execution_count": null,
   "metadata": {},
   "outputs": [],
   "source": [
    "def fact(n):\n",
    "    if n == 0 or n == 1:\n",
    "        return 1\n",
    "    return n*fact(n-1)\n",
    "\n",
    "print(fact(6))"
   ]
  },
  {
   "cell_type": "markdown",
   "metadata": {},
   "source": [
    "### Challenge:\n",
    "[Write a function](https://www.hackerrank.com/challenges/write-a-function)\n",
    "\n",
    "Write a recursive function to compute factorial of a given number."
   ]
  },
  {
   "cell_type": "markdown",
   "metadata": {},
   "source": [
    "![](images/function.jpg)"
   ]
  }
 ],
 "metadata": {
  "kernelspec": {
   "display_name": "Python 3",
   "language": "python",
   "name": "python3"
  },
  "language_info": {
   "codemirror_mode": {
    "name": "ipython",
    "version": 3
   },
   "file_extension": ".py",
   "mimetype": "text/x-python",
   "name": "python",
   "nbconvert_exporter": "python",
   "pygments_lexer": "ipython3",
   "version": "3.6.8"
  }
 },
 "nbformat": 4,
 "nbformat_minor": 2
}
